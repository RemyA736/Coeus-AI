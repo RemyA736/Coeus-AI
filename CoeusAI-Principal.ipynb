{
 "cells": [
  {
   "cell_type": "markdown",
   "id": "b62c71c5-1ffd-46a0-a9c5-40be305f8c70",
   "metadata": {},
   "source": [
    "# Coeus AI"
   ]
  },
  {
   "cell_type": "markdown",
   "id": "5636b0bf-21bc-4391-88ac-efc7cebfaf5d",
   "metadata": {},
   "source": [
    "## Selección de técnica de binarización\n",
    "1. Selección aleatoria de un conjunto de prueba\n",
    "2. Generación de imágenes con ambos métodos de binarización\n",
    "3. Predicción de OCR para tres conjuntos: normal, Otsu y adaptativa\n",
    "4. Evaluación de los métodos con métricas: Dice, Jaccard y Cosine\n",
    "5. Selección del mejor método de binarización: Adaptativa\n",
    "\n",
    "## Pre-procesamiento de imágenes\n",
    "1. Transformación del documento a escala de grises\n",
    "2. Reescalado de imagen por un factor $f$\n",
    "3. Eliminación de sombras (Blurred + (255 - abs diff de planos))\n",
    "4. Binarización Adaptativa\n",
    "5. Corrección de orientación (OpenCV o Tesseract)\n",
    "6. Recorte de bordes de fotografía/escaneo"
   ]
  },
  {
   "cell_type": "markdown",
   "id": "e81e6c57-d08b-4feb-890f-1779625292c0",
   "metadata": {},
   "source": [
    "## Extracción de OCR de las imágenes con motores seleccionados\n",
    "1. OCR a la imagen $i$ con Azure OCR\n",
    "2. OCR a la imagen $i$ con EasyOCR\n",
    "3. Selección del mejor texto de forma no-supervisada: métrica compuesta ponderada"
   ]
  },
  {
   "cell_type": "markdown",
   "id": "a6e50e2f-8711-436b-890b-68640b711f82",
   "metadata": {
    "tags": []
   },
   "source": [
    "## Extracción de entidades\n",
    "1. Extracción de entidades con Spacy: es_core_news_lg\n",
    "2. Enriquecimiento de entidades de Spacy con DateParser\n",
    "3. Extracción de entidades con Azure NER\n",
    "4. Creación de un conjunto único: Spacy + DateParser + Azure NER"
   ]
  },
  {
   "cell_type": "code",
   "execution_count": null,
   "id": "386cbfe2-c7cb-4c10-954f-3466a484e4e3",
   "metadata": {},
   "outputs": [
    {
     "name": "stdout",
     "output_type": "stream",
     "text": [
      "Entidades del documento 0 : Ficheros_Detenidos_Desaparecidos_Cabanas_Fierro_Zacarias_76-12-07,_CABANAS_FIERRO_ZACARIAS-3-.JPG han sido procesadas.\n"
     ]
    }
   ],
   "source": [
    "\"\"\"\n",
    "La función coeus.add_entities_json() realiza los 4 pasos descritos en la \n",
    "celda anterior.\n",
    "\"\"\"\n",
    "from coeus import add_entities_json\n",
    "\n",
    "credentials = {'key': \"dadc0fff23804ae0890878f9b74ea18d\",\n",
    "               'endpoint': \"https://hacktextocrcoueus.cognitiveservices.azure.com/\"}\n",
    "\n",
    "path_to_predictions = \"Datos/Test/predictions.json\" # Ruta al json de predicciones\n",
    "path_to_save = \"Datos/Test/predictions_w_entities.json\" # Ruta al json de predicciones\n",
    "add_entities_json(path_to_predictions, path_to_save, credentials) # Añadiendo las entidades"
   ]
  },
  {
   "cell_type": "code",
   "execution_count": null,
   "id": "e62824e4-75ab-4da3-a5ec-d25ce51600a8",
   "metadata": {},
   "outputs": [],
   "source": [
    "# Extracción de Expedientes\n",
    "test = \"\"\"ASOCIACION CIVICA GUERRERENSE\n",
    "Exp-100-10-1-67.\n",
    "EN. EL EDO.DE GUERRERO.\n",
    "H-11- - .22 24 ...L-29\\n10-Nov-6 - \n",
    "Atoyac de Alvarez, en este lugar' \n",
    "contint\\nlatente el problema ocasionado \n",
    "por el Grupo del -\\nProf.LUCIO CABANAS, q\n",
    "ue sigue efectuando labor\\n--\\nde agi aci\\u00f3n \n",
    "entre pobladores y comercianes a qui\\nenes incitan a \n",
    "llevar a cabo actos en contra de\\nlos Gbnos. Mpls.y Est. , \n",
    "a einclusive a los segundos\\nel mencionado grupo ha estado \n",
    "amenazando de cuer- \\u00b7 te. Exp-100-10-1-67. H-127\\nL-29\\n1.fc-57 .- \n",
    "Atoyac de Alvarez, elementos de esta esc\\nciacionse han dedicado a lanzar \n",
    "panfletos y ha --\\ncer pintas principalmente en la region de la sie\\nrra, de dicho \n",
    "Mpio ., con leyndas contrarias al \\\"jec!\", \"\n",
    "\n",
    "\"\"\"\n",
    "exp = re.compile('[bBjJeExXpPzZ ][eE xX pP zZ][eE xX pP zZ][-. :].{1,12}')\n",
    "exp.findall(text)"
   ]
  }
 ],
 "metadata": {
  "kernelspec": {
   "display_name": "Python 3 (ipykernel)",
   "language": "python",
   "name": "python3"
  },
  "language_info": {
   "codemirror_mode": {
    "name": "ipython",
    "version": 3
   },
   "file_extension": ".py",
   "mimetype": "text/x-python",
   "name": "python",
   "nbconvert_exporter": "python",
   "pygments_lexer": "ipython3",
   "version": "3.8.10"
  }
 },
 "nbformat": 4,
 "nbformat_minor": 5
}
