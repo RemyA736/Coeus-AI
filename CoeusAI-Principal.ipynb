{
 "cells": [
  {
   "cell_type": "markdown",
   "id": "b62c71c5-1ffd-46a0-a9c5-40be305f8c70",
   "metadata": {},
   "source": [
    "# Coeus AI"
   ]
  },
  {
   "cell_type": "markdown",
   "id": "5636b0bf-21bc-4391-88ac-efc7cebfaf5d",
   "metadata": {},
   "source": [
    "## Selección de técnica de binarización\n",
    "1. Selección aleatoria de un conjunto de prueba\n",
    "2. Generación de imágenes con ambos métodos de binarización\n",
    "3. Predicción de OCR para tres conjuntos: normal, Otsu y adaptativa\n",
    "4. Evaluación de los métodos con métricas: Dice, Jaccard y Cosine\n",
    "5. Selección del mejor método de binarización: Adaptativa\n",
    "\n",
    "## Pre-procesamiento de imágenes\n",
    "1. Transformación del documento a escala de grises\n",
    "2. Reescalado de imagen por un factor $f$\n",
    "3. Eliminación de sombras (Blurred + (255 - abs diff de planos))\n",
    "4. Binarización Adaptativa\n",
    "5. Corrección de orientación (OpenCV o Tesseract)\n",
    "6. Recorte de bordes de fotografía/escaneo"
   ]
  },
  {
   "cell_type": "markdown",
   "id": "e81e6c57-d08b-4feb-890f-1779625292c0",
   "metadata": {},
   "source": [
    "## Extracción de OCR de las imágenes con motores seleccionados\n",
    "1. OCR a la imagen $i$ con Azure OCR\n",
    "2. OCR a la imagen $i$ con EasyOCR\n",
    "3. Selección del mejor texto de forma no-supervisada: métrica compuesta ponderada"
   ]
  },
  {
   "cell_type": "markdown",
   "id": "a6e50e2f-8711-436b-890b-68640b711f82",
   "metadata": {},
   "source": [
    "## Extracción de entidades\n",
    "1. Extracción de entidades con Spacy: es_core_news_lg\n",
    "2. Enriquecimiento de entidades de Spacy con DateParser\n",
    "3. Extracción de entidades con Azure NER\n",
    "4. Creación de un conjunto único: Spacy + DateParser + Azure NER"
   ]
  },
  {
   "cell_type": "code",
   "execution_count": null,
   "id": "e2caa6ea-03d0-408e-8891-d052ea54fe44",
   "metadata": {},
   "outputs": [],
   "source": [
    "for i, Document in enumerate(test_set.items()):\n",
    "            texto_azure = Document[1]['texto_azure_pp_adaptive']\n",
    "            texto_easy = Document[1]['texto_easyocr_np']\n",
    "            mejor = compare_transcriptions_unsupervised(texto_azure, texto_easy)\n",
    "            predictions_dict[str(Document[0])] = {'entidades': [entidades]}"
   ]
  }
 ],
 "metadata": {
  "kernelspec": {
   "display_name": "Python 3 (ipykernel)",
   "language": "python",
   "name": "python3"
  },
  "language_info": {
   "codemirror_mode": {
    "name": "ipython",
    "version": 3
   },
   "file_extension": ".py",
   "mimetype": "text/x-python",
   "name": "python",
   "nbconvert_exporter": "python",
   "pygments_lexer": "ipython3",
   "version": "3.8.10"
  }
 },
 "nbformat": 4,
 "nbformat_minor": 5
}
