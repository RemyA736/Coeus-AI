{
 "cells": [
  {
   "cell_type": "code",
   "execution_count": 1,
   "id": "4c3455a9-837a-4cf2-a746-270a6c4eff4f",
   "metadata": {},
   "outputs": [],
   "source": [
    "# Global imports\n",
    "import os\n",
    "import json\n",
    "\n",
    "# CoeusAI functions\n",
    "from coeus import *"
   ]
  },
  {
   "cell_type": "code",
   "execution_count": 2,
   "id": "1a7e1a31-65a8-4452-8c80-8ea4423598e9",
   "metadata": {},
   "outputs": [
    {
     "name": "stdout",
     "output_type": "stream",
     "text": [
      "El archivo de transcripciones ya existe: transcriptions/SampleDocuments.json\n"
     ]
    }
   ],
   "source": [
    "# Correr esta celda para crear o cargar el archivo de transcripciones\n",
    "path_to_docs_dir = \"SampleDocuments/\"\n",
    "path_to_json = \"transcriptions/SampleDocuments.json\"\n",
    "transcriptions_json = retrieve_transcriptions_json(path_to_docs_dir, path_to_json)"
   ]
  },
  {
   "cell_type": "code",
   "execution_count": null,
   "id": "8358e4e3-acbc-449c-b521-ad3638833be5",
   "metadata": {},
   "outputs": [],
   "source": [
    "# Si se desea corregir la orientación de los documentos\n",
    "fix_doc_orientation = False\n",
    "\n",
    "if fix_doc_orientation:\n",
    "    rotate_documents(path_to_docs_dir)"
   ]
  },
  {
   "cell_type": "markdown",
   "id": "0764b120-ebb6-4ab8-8f38-8cb9c060376e",
   "metadata": {},
   "source": [
    "## Extracción de texto con EasyOCR"
   ]
  },
  {
   "cell_type": "code",
   "execution_count": 5,
   "id": "20061910-777a-4194-9629-2930296fd3f6",
   "metadata": {},
   "outputs": [
    {
     "name": "stdout",
     "output_type": "stream",
     "text": [
      "Transcribiendo SampleDocuments/AGN_DFS_C.48_De_los_Rios_Merino_Alicia_pg-082.jpg (EasyOCR)\n"
     ]
    },
    {
     "name": "stderr",
     "output_type": "stream",
     "text": [
      "/home/yibbtstll/venvs/CoeusAI/lib/python3.8/site-packages/torch/nn/functional.py:718: UserWarning: Named tensors and all their associated APIs are an experimental feature and subject to change. Please do not use them for anything important until they are released as stable. (Triggered internally at  /pytorch/c10/core/TensorImpl.h:1156.)\n",
      "  return torch.max_pool2d(input, kernel_size, stride, padding, dilation, ceil_mode)\n"
     ]
    },
    {
     "name": "stdout",
     "output_type": "stream",
     "text": [
      "Transcribiendo SampleDocuments/AGN_DFS_TARJETAS_Morales_Lopez_Delia_Cirila_pg-016.jpg (EasyOCR)\n",
      "Transcribiendo SampleDocuments/AGN_DFS_C.18_2_de_2_Cabrera_Arenas_Emma_pg-235.jpg (EasyOCR)\n",
      "Transcribiendo SampleDocuments/AGN_DFS_AdeR_Declaracion_de_Alfredo_Tecla_Parra_pg-010.jpg (EasyOCR)\n",
      "Transcribiendo SampleDocuments/AGN_DFS_C.18_2_de_2_Cabrera_Arenas_Emma_pg-009.jpg (EasyOCR)\n",
      "Transcribiendo SampleDocuments/AGN_DFS_C.18_1_de_2_Cabrera_Arenas_Emma_pg-142.jpg (EasyOCR)\n",
      "Transcribiendo SampleDocuments/AGN_DFS_TARJETAS_Morales_Lopez_Delia_Cirila_pg-019.jpg (EasyOCR)\n",
      "Transcribiendo SampleDocuments/AGN_DFS_C.184_Tecla_Parra_Violeta_pg-017.jpg (EasyOCR)\n",
      "Transcribiendo SampleDocuments/AGN_DFS_C.151_Morales_Lopez_Delia_pg-006.jpg (EasyOCR)\n",
      "Transcribiendo SampleDocuments/AGN_DFS_C.18_2_de_2_Cabrera_Arenas_Emma_pg-280.jpg (EasyOCR)\n",
      "Transcribiendo SampleDocuments/AGN_DFS_C.48_De_los_Rios_Merino_Alicia_pg-029.jpg (EasyOCR)\n",
      "Transcribiendo SampleDocuments/AGN_DFS_C.18_2_de_2_Cabrera_Arenas_Emma_pg-182.jpg (EasyOCR)\n",
      "Transcribiendo SampleDocuments/AGN_DFS_C.160_Murillo_de_Ramirez_Juventina_Martha_pg-002.jpg (EasyOCR)\n",
      "Transcribiendo SampleDocuments/AGN_DFS_C.18_1_de_2_Cabrera_Arenas_Emma_pg-269.jpg (EasyOCR)\n",
      "Transcribiendo SampleDocuments/AGN_DFS_C.18_2_de_2_Cabrera_Arenas_Emma_pg-103.jpg (EasyOCR)\n",
      "Transcribiendo SampleDocuments/AGN_DFS_C.151_Morales_Lopez_Delia_pg-013.jpg (EasyOCR)\n",
      "Transcribiendo SampleDocuments/AGN_DFS_C.18_1_de_2_Cabrera_Arenas_Emma_pg-287.jpg (EasyOCR)\n",
      "Transcribiendo SampleDocuments/AGN_DFS_C.18_1_de_2_Cabrera_Arenas_Emma_pg-076.jpg (EasyOCR)\n",
      "Transcribiendo SampleDocuments/AGN_DFS_TARJETAS_Morales_Lopez_Delia_Cirila_pg-002.jpg (EasyOCR)\n",
      "Transcribiendo SampleDocuments/AGN_DFS_AdeR_Declaracion_de_Alfredo_Tecla_Parra_pg-006.jpg (EasyOCR)\n",
      "Transcribiendo SampleDocuments/AGN_DFS_C.18_2_de_2_Cabrera_Arenas_Emma_pg-072.jpg (EasyOCR)\n",
      "Transcribiendo SampleDocuments/AGN_DFS_C.48_De_los_Rios_Merino_Alicia_pg-001.jpg (EasyOCR)\n",
      "Transcribiendo SampleDocuments/AGN_DFS_C.18_2_de_2_Cabrera_Arenas_Emma_pg-066.jpg (EasyOCR)\n",
      "Transcribiendo SampleDocuments/AGN_DFS_C.240_Sanchez_Fuerte_Maria_Marcela_pg-009.jpg (EasyOCR)\n",
      "Transcribiendo SampleDocuments/AGN_DFS_C.48_De_los_Rios_Merino_Alicia_pg-032.jpg (EasyOCR)\n",
      "Transcripciones de EasyOCR añadidas con éxito.\n"
     ]
    }
   ],
   "source": [
    "# Añadiendo las transcripciones generadas por EasyOCR Text Detection\n",
    "extract_easy_ocr = True\n",
    "\n",
    "def add_easyocr_transcriptions(transcriptions_json, path_to_json):\n",
    "    for document in transcriptions_json['data']:\n",
    "        filepath = transcriptions_json['data'][document]['filepath']\n",
    "        print(\"Transcribiendo\", filepath, \"(EasyOCR)\")\n",
    "        easyocr_str = easyocr_text_detection(filepath)\n",
    "        transcriptions_json['data'][document]['texto_easyocr'] = easyocr_str\n",
    "    \n",
    "    f = open(path_to_json, \"w\")\n",
    "    json.dump(transcriptions_json, f)\n",
    "    f.close()\n",
    "    \n",
    "    print(\"Transcripciones de EasyOCR añadidas con éxito.\")\n",
    "\n",
    "if extract_easy_ocr:\n",
    "    transcriptions_json = retrieve_transcriptions_json(path_to_docs_dir, path_to_json)\n",
    "    add_easyocr_transcriptions(transcriptions_json, path_to_json)"
   ]
  },
  {
   "cell_type": "markdown",
   "id": "d01ccb2a-056c-482c-afb2-431397ce5ac4",
   "metadata": {},
   "source": [
    "## Extracción de texto con Tesseract OCR"
   ]
  },
  {
   "cell_type": "code",
   "execution_count": 5,
   "id": "85a46264-edf5-44e5-bdff-302fdc5d868c",
   "metadata": {},
   "outputs": [
    {
     "name": "stdout",
     "output_type": "stream",
     "text": [
      "El archivo de transcripciones ya existe: transcriptions/SampleDocuments.json\n",
      "Transcribiendo SampleDocuments/AGN_DFS_C.48_De_los_Rios_Merino_Alicia_pg-082.jpg (Tesseract)\n",
      "Transcribiendo SampleDocuments/AGN_DFS_TARJETAS_Morales_Lopez_Delia_Cirila_pg-016.jpg (Tesseract)\n",
      "Transcribiendo SampleDocuments/AGN_DFS_C.18_2_de_2_Cabrera_Arenas_Emma_pg-235.jpg (Tesseract)\n",
      "Transcribiendo SampleDocuments/AGN_DFS_AdeR_Declaracion_de_Alfredo_Tecla_Parra_pg-010.jpg (Tesseract)\n",
      "Transcribiendo SampleDocuments/AGN_DFS_C.18_2_de_2_Cabrera_Arenas_Emma_pg-009.jpg (Tesseract)\n",
      "Transcribiendo SampleDocuments/AGN_DFS_C.18_1_de_2_Cabrera_Arenas_Emma_pg-142.jpg (Tesseract)\n",
      "Transcribiendo SampleDocuments/AGN_DFS_TARJETAS_Morales_Lopez_Delia_Cirila_pg-019.jpg (Tesseract)\n",
      "Transcribiendo SampleDocuments/AGN_DFS_C.184_Tecla_Parra_Violeta_pg-017.jpg (Tesseract)\n",
      "Transcribiendo SampleDocuments/AGN_DFS_C.151_Morales_Lopez_Delia_pg-006.jpg (Tesseract)\n",
      "Transcribiendo SampleDocuments/AGN_DFS_C.18_2_de_2_Cabrera_Arenas_Emma_pg-280.jpg (Tesseract)\n",
      "Transcribiendo SampleDocuments/AGN_DFS_C.48_De_los_Rios_Merino_Alicia_pg-029.jpg (Tesseract)\n",
      "Transcribiendo SampleDocuments/AGN_DFS_C.18_2_de_2_Cabrera_Arenas_Emma_pg-182.jpg (Tesseract)\n",
      "Transcribiendo SampleDocuments/AGN_DFS_C.160_Murillo_de_Ramirez_Juventina_Martha_pg-002.jpg (Tesseract)\n",
      "Transcribiendo SampleDocuments/AGN_DFS_C.18_1_de_2_Cabrera_Arenas_Emma_pg-269.jpg (Tesseract)\n",
      "Transcribiendo SampleDocuments/AGN_DFS_C.18_2_de_2_Cabrera_Arenas_Emma_pg-103.jpg (Tesseract)\n",
      "Transcribiendo SampleDocuments/AGN_DFS_C.151_Morales_Lopez_Delia_pg-013.jpg (Tesseract)\n",
      "Transcribiendo SampleDocuments/AGN_DFS_C.18_1_de_2_Cabrera_Arenas_Emma_pg-287.jpg (Tesseract)\n",
      "Transcribiendo SampleDocuments/AGN_DFS_C.18_1_de_2_Cabrera_Arenas_Emma_pg-076.jpg (Tesseract)\n",
      "Transcribiendo SampleDocuments/AGN_DFS_TARJETAS_Morales_Lopez_Delia_Cirila_pg-002.jpg (Tesseract)\n",
      "Transcribiendo SampleDocuments/AGN_DFS_AdeR_Declaracion_de_Alfredo_Tecla_Parra_pg-006.jpg (Tesseract)\n",
      "Transcribiendo SampleDocuments/AGN_DFS_C.18_2_de_2_Cabrera_Arenas_Emma_pg-072.jpg (Tesseract)\n",
      "Transcribiendo SampleDocuments/AGN_DFS_C.48_De_los_Rios_Merino_Alicia_pg-001.jpg (Tesseract)\n",
      "Transcribiendo SampleDocuments/AGN_DFS_C.18_2_de_2_Cabrera_Arenas_Emma_pg-066.jpg (Tesseract)\n",
      "Transcribiendo SampleDocuments/AGN_DFS_C.240_Sanchez_Fuerte_Maria_Marcela_pg-009.jpg (Tesseract)\n",
      "Transcribiendo SampleDocuments/AGN_DFS_C.48_De_los_Rios_Merino_Alicia_pg-032.jpg (Tesseract)\n",
      "Transcripciones de Tesseract añadidas con éxito.\n"
     ]
    }
   ],
   "source": [
    "# Añadiendo las transcripciones generadas por Tesseract Text Detection\n",
    "extract_tesseract_ocr = True\n",
    "\n",
    "def add_tesseract_transcriptions(transcriptions_json, path_to_json):\n",
    "    for document in transcriptions_json['data']:\n",
    "        filepath = transcriptions_json['data'][document]['filepath']\n",
    "        print(\"Transcribiendo\", filepath, \"(Tesseract)\")\n",
    "        tesseract_str = tesseract_text_detection(filepath)\n",
    "        transcriptions_json['data'][document]['texto_tesseract'] = tesseract_str\n",
    "    \n",
    "    f = open(path_to_json, \"w\")\n",
    "    json.dump(transcriptions_json, f)\n",
    "    f.close()\n",
    "    \n",
    "    print(\"Transcripciones de Tesseract añadidas con éxito.\")\n",
    "\n",
    "if extract_tesseract_ocr:\n",
    "    transcriptions_json = retrieve_transcriptions_json(path_to_docs_dir, path_to_json)\n",
    "    add_tesseract_transcriptions(transcriptions_json, path_to_json)"
   ]
  },
  {
   "cell_type": "markdown",
   "id": "41488b9a-611f-41e5-adac-44858593b20c",
   "metadata": {},
   "source": [
    "## Extracción de texto con Google Cloud Vision"
   ]
  },
  {
   "cell_type": "code",
   "execution_count": 3,
   "id": "6c9c9d94-69fd-4c7b-b9c8-72631ae3a94c",
   "metadata": {},
   "outputs": [
    {
     "name": "stdout",
     "output_type": "stream",
     "text": [
      "El archivo de transcripciones ya existe: transcriptions/SampleDocuments.json\n",
      "Transcribiendo SampleDocuments/AGN_DFS_C.48_De_los_Rios_Merino_Alicia_pg-082.jpg (Google Cloud)\n",
      "Transcribiendo SampleDocuments/AGN_DFS_TARJETAS_Morales_Lopez_Delia_Cirila_pg-016.jpg (Google Cloud)\n",
      "Transcribiendo SampleDocuments/AGN_DFS_C.18_2_de_2_Cabrera_Arenas_Emma_pg-235.jpg (Google Cloud)\n",
      "Transcribiendo SampleDocuments/AGN_DFS_AdeR_Declaracion_de_Alfredo_Tecla_Parra_pg-010.jpg (Google Cloud)\n",
      "Transcribiendo SampleDocuments/AGN_DFS_C.18_2_de_2_Cabrera_Arenas_Emma_pg-009.jpg (Google Cloud)\n",
      "Transcribiendo SampleDocuments/AGN_DFS_C.18_1_de_2_Cabrera_Arenas_Emma_pg-142.jpg (Google Cloud)\n",
      "Transcribiendo SampleDocuments/AGN_DFS_TARJETAS_Morales_Lopez_Delia_Cirila_pg-019.jpg (Google Cloud)\n",
      "Transcribiendo SampleDocuments/AGN_DFS_C.184_Tecla_Parra_Violeta_pg-017.jpg (Google Cloud)\n",
      "Transcribiendo SampleDocuments/AGN_DFS_C.151_Morales_Lopez_Delia_pg-006.jpg (Google Cloud)\n",
      "Transcribiendo SampleDocuments/AGN_DFS_C.18_2_de_2_Cabrera_Arenas_Emma_pg-280.jpg (Google Cloud)\n",
      "Transcribiendo SampleDocuments/AGN_DFS_C.48_De_los_Rios_Merino_Alicia_pg-029.jpg (Google Cloud)\n",
      "Transcribiendo SampleDocuments/AGN_DFS_C.18_2_de_2_Cabrera_Arenas_Emma_pg-182.jpg (Google Cloud)\n",
      "Transcribiendo SampleDocuments/AGN_DFS_C.160_Murillo_de_Ramirez_Juventina_Martha_pg-002.jpg (Google Cloud)\n",
      "Transcribiendo SampleDocuments/AGN_DFS_C.18_1_de_2_Cabrera_Arenas_Emma_pg-269.jpg (Google Cloud)\n",
      "Transcribiendo SampleDocuments/AGN_DFS_C.18_2_de_2_Cabrera_Arenas_Emma_pg-103.jpg (Google Cloud)\n",
      "Transcribiendo SampleDocuments/AGN_DFS_C.151_Morales_Lopez_Delia_pg-013.jpg (Google Cloud)\n",
      "Transcribiendo SampleDocuments/AGN_DFS_C.18_1_de_2_Cabrera_Arenas_Emma_pg-287.jpg (Google Cloud)\n",
      "Transcribiendo SampleDocuments/AGN_DFS_C.18_1_de_2_Cabrera_Arenas_Emma_pg-076.jpg (Google Cloud)\n",
      "Transcribiendo SampleDocuments/AGN_DFS_TARJETAS_Morales_Lopez_Delia_Cirila_pg-002.jpg (Google Cloud)\n",
      "Transcribiendo SampleDocuments/AGN_DFS_AdeR_Declaracion_de_Alfredo_Tecla_Parra_pg-006.jpg (Google Cloud)\n",
      "Transcribiendo SampleDocuments/AGN_DFS_C.18_2_de_2_Cabrera_Arenas_Emma_pg-072.jpg (Google Cloud)\n",
      "Transcribiendo SampleDocuments/AGN_DFS_C.48_De_los_Rios_Merino_Alicia_pg-001.jpg (Google Cloud)\n",
      "Transcribiendo SampleDocuments/AGN_DFS_C.18_2_de_2_Cabrera_Arenas_Emma_pg-066.jpg (Google Cloud)\n",
      "Transcribiendo SampleDocuments/AGN_DFS_C.240_Sanchez_Fuerte_Maria_Marcela_pg-009.jpg (Google Cloud)\n",
      "Transcribiendo SampleDocuments/AGN_DFS_C.48_De_los_Rios_Merino_Alicia_pg-032.jpg (Google Cloud)\n",
      "Transcripciones de Google Cloud añadidas con éxito.\n"
     ]
    }
   ],
   "source": [
    "# Añadiendo las transcripciones generadas por Google Cloud Text Detection\n",
    "extract_gcloud_ocr = True\n",
    "\n",
    "def add_gcloud_transcriptions(transcriptions_json, path_to_json):\n",
    "    for document in transcriptions_json['data']:\n",
    "        filepath = transcriptions_json['data'][document]['filepath']\n",
    "        print(\"Transcribiendo\", filepath, \"(Google Cloud)\")\n",
    "        gcloud_str = gcloud_text_detection(filepath)\n",
    "        transcriptions_json['data'][document]['texto_gcloud'] = gcloud_str\n",
    "    \n",
    "    f = open(path_to_json, \"w\")\n",
    "    json.dump(transcriptions_json, f)\n",
    "    f.close()\n",
    "    \n",
    "    print(\"Transcripciones de Google Cloud añadidas con éxito.\")\n",
    "\n",
    "if extract_gcloud_ocr:\n",
    "    transcriptions_json = retrieve_transcriptions_json(path_to_docs_dir, path_to_json)\n",
    "    add_gcloud_transcriptions(transcriptions_json, path_to_json)"
   ]
  },
  {
   "cell_type": "markdown",
   "id": "a19865cd-b8d2-4508-a102-113f15c8db35",
   "metadata": {},
   "source": [
    "## Extracción de texto con Azure Cognitive Services"
   ]
  },
  {
   "cell_type": "code",
   "execution_count": 3,
   "id": "08415133-bc3b-40b6-9d8c-e170023cd3f3",
   "metadata": {},
   "outputs": [
    {
     "name": "stdout",
     "output_type": "stream",
     "text": [
      "El archivo de transcripciones ya existe: transcriptions/SampleDocuments.json\n",
      "Transcribiendo SampleDocuments/documents/AGN_DFS_C.48_De_los_Rios_Merino_Alicia_pg-082.jpg (Azure)\n",
      "Transcribiendo SampleDocuments/documents/AGN_DFS_TARJETAS_Morales_Lopez_Delia_Cirila_pg-016.jpg (Azure)\n",
      "Transcribiendo SampleDocuments/documents/AGN_DFS_C.18_2_de_2_Cabrera_Arenas_Emma_pg-235.jpg (Azure)\n",
      "Transcribiendo SampleDocuments/documents/AGN_DFS_AdeR_Declaracion_de_Alfredo_Tecla_Parra_pg-010.jpg (Azure)\n",
      "Transcribiendo SampleDocuments/documents/AGN_DFS_C.18_2_de_2_Cabrera_Arenas_Emma_pg-009.jpg (Azure)\n",
      "Transcribiendo SampleDocuments/documents/AGN_DFS_C.18_1_de_2_Cabrera_Arenas_Emma_pg-142.jpg (Azure)\n",
      "Transcribiendo SampleDocuments/documents/AGN_DFS_TARJETAS_Morales_Lopez_Delia_Cirila_pg-019.jpg (Azure)\n",
      "Transcribiendo SampleDocuments/documents/AGN_DFS_C.184_Tecla_Parra_Violeta_pg-017.jpg (Azure)\n",
      "Transcribiendo SampleDocuments/documents/AGN_DFS_C.151_Morales_Lopez_Delia_pg-006.jpg (Azure)\n",
      "Transcribiendo SampleDocuments/documents/AGN_DFS_C.18_2_de_2_Cabrera_Arenas_Emma_pg-280.jpg (Azure)\n",
      "Transcribiendo SampleDocuments/documents/AGN_DFS_C.48_De_los_Rios_Merino_Alicia_pg-029.jpg (Azure)\n",
      "Transcribiendo SampleDocuments/documents/AGN_DFS_C.18_2_de_2_Cabrera_Arenas_Emma_pg-182.jpg (Azure)\n",
      "Transcribiendo SampleDocuments/documents/AGN_DFS_C.160_Murillo_de_Ramirez_Juventina_Martha_pg-002.jpg (Azure)\n",
      "Transcribiendo SampleDocuments/documents/AGN_DFS_C.18_1_de_2_Cabrera_Arenas_Emma_pg-269.jpg (Azure)\n",
      "Transcribiendo SampleDocuments/documents/AGN_DFS_C.18_2_de_2_Cabrera_Arenas_Emma_pg-103.jpg (Azure)\n",
      "Transcribiendo SampleDocuments/documents/AGN_DFS_C.151_Morales_Lopez_Delia_pg-013.jpg (Azure)\n",
      "Transcribiendo SampleDocuments/documents/AGN_DFS_C.18_1_de_2_Cabrera_Arenas_Emma_pg-287.jpg (Azure)\n",
      "Transcribiendo SampleDocuments/documents/AGN_DFS_C.18_1_de_2_Cabrera_Arenas_Emma_pg-076.jpg (Azure)\n",
      "Transcribiendo SampleDocuments/documents/AGN_DFS_TARJETAS_Morales_Lopez_Delia_Cirila_pg-002.jpg (Azure)\n",
      "Transcribiendo SampleDocuments/documents/AGN_DFS_AdeR_Declaracion_de_Alfredo_Tecla_Parra_pg-006.jpg (Azure)\n",
      "Transcribiendo SampleDocuments/documents/AGN_DFS_C.18_2_de_2_Cabrera_Arenas_Emma_pg-072.jpg (Azure)\n",
      "Transcribiendo SampleDocuments/documents/AGN_DFS_C.48_De_los_Rios_Merino_Alicia_pg-001.jpg (Azure)\n",
      "Transcribiendo SampleDocuments/documents/AGN_DFS_C.18_2_de_2_Cabrera_Arenas_Emma_pg-066.jpg (Azure)\n",
      "Transcribiendo SampleDocuments/documents/AGN_DFS_C.240_Sanchez_Fuerte_Maria_Marcela_pg-009.jpg (Azure)\n",
      "Transcribiendo SampleDocuments/documents/AGN_DFS_C.48_De_los_Rios_Merino_Alicia_pg-032.jpg (Azure)\n",
      "Transcripciones de Azure añadidas con éxito.\n"
     ]
    }
   ],
   "source": [
    "# Añadiendo las transcripciones generadas por Google Cloud Text Detection\n",
    "extract_azure_ocr = True\n",
    "\n",
    "def add_azure_transcriptions(transcriptions_json, path_to_json):\n",
    "    for document in transcriptions_json['data']:\n",
    "        filepath = transcriptions_json['data'][document]['filepath']\n",
    "        print(\"Transcribiendo\", filepath, \"(Azure)\")\n",
    "        azure_str = azure_text_detection(filepath)\n",
    "        transcriptions_json['data'][document]['texto_azure'] = azure_str\n",
    "    \n",
    "    f = open(path_to_json, \"w\")\n",
    "    json.dump(transcriptions_json, f)\n",
    "    f.close()\n",
    "    \n",
    "    print(\"Transcripciones de Azure añadidas con éxito.\")\n",
    "\n",
    "if extract_azure_ocr:\n",
    "    transcriptions_json = retrieve_transcriptions_json(path_to_docs_dir, path_to_json)\n",
    "    add_azure_transcriptions(transcriptions_json, path_to_json)"
   ]
  }
 ],
 "metadata": {
  "kernelspec": {
   "display_name": "Python 3 (ipykernel)",
   "language": "python",
   "name": "python3"
  },
  "language_info": {
   "codemirror_mode": {
    "name": "ipython",
    "version": 3
   },
   "file_extension": ".py",
   "mimetype": "text/x-python",
   "name": "python",
   "nbconvert_exporter": "python",
   "pygments_lexer": "ipython3",
   "version": "3.8.10"
  }
 },
 "nbformat": 4,
 "nbformat_minor": 5
}
